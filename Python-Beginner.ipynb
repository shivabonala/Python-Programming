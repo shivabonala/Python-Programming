{
 "cells": [
  {
   "cell_type": "markdown",
   "metadata": {},
   "source": [
    "# Python Basic programming:\n",
    "\n",
    "In this notebook, we will explore two datsets on births in the U.S. This data set was compiled by FiveThirtyEight. \n",
    "\n",
    "US_births.csv contains U.S. births data for the years 1994 to 2003, as provided by the Centers for Disease Control and Prevention's National Center for Health Statistics.\n",
    "\n",
    "SSA_births.csv contains U.S. births data for the years 2000 to 2014, as provided by the Social Security Administration.\n",
    "\n",
    "## Overview\n",
    "\n",
    "The dataset contains the following columns:\n",
    "\n",
    "year: Year (1994 to 2014).\n",
    "month: Month (1 to 12).\n",
    "date_of_month: Day number of the month (1 to 31).\n",
    "day_of_week: Day of week (1 to 7).\n",
    "births: Number of births that day."
   ]
  },
  {
   "cell_type": "code",
   "execution_count": 7,
   "metadata": {},
   "outputs": [
    {
     "data": {
      "text/plain": [
       "['year,month,date_of_month,day_of_week,births',\n",
       " '1994,1,1,6,8096',\n",
       " '1994,1,2,7,7772',\n",
       " '1994,1,3,1,10142',\n",
       " '1994,1,4,2,11248',\n",
       " '1994,1,5,3,11053',\n",
       " '1994,1,6,4,11406',\n",
       " '1994,1,7,5,11251',\n",
       " '1994,1,8,6,8653',\n",
       " '1994,1,9,7,7910']"
      ]
     },
     "execution_count": 7,
     "metadata": {},
     "output_type": "execute_result"
    }
   ],
   "source": [
    "# Read csv file and print 5 records\n",
    "open_file = open(\"US_Births.csv\")\n",
    "read_file = open_file.read()\n",
    "split_file = read_file.split(\"\\n\")\n",
    "split_file[0:10]\n"
   ]
  },
  {
   "cell_type": "code",
   "execution_count": 9,
   "metadata": {},
   "outputs": [
    {
     "data": {
      "text/plain": [
       "[['year', 'month', 'date_of_month', 'day_of_week', 'births'],\n",
       " ['1994', '1', '1', '6', '8096'],\n",
       " ['1994', '1', '2', '7', '7772'],\n",
       " ['1994', '1', '3', '1', '10142'],\n",
       " ['1994', '1', '4', '2', '11248'],\n",
       " ['1994', '1', '5', '3', '11053'],\n",
       " ['1994', '1', '6', '4', '11406'],\n",
       " ['1994', '1', '7', '5', '11251'],\n",
       " ['1994', '1', '8', '6', '8653'],\n",
       " ['1994', '1', '9', '7', '7910']]"
      ]
     },
     "execution_count": 9,
     "metadata": {},
     "output_type": "execute_result"
    }
   ],
   "source": [
    "# Convert csv file into list of list\n",
    "\n",
    "csv_list = []\n",
    "for row in split_file:\n",
    "    split_row = row.split(\",\")\n",
    "    csv_list.append(split_row)\n",
    "    \n",
    "csv_list[0:10]    "
   ]
  },
  {
   "cell_type": "code",
   "execution_count": 18,
   "metadata": {
    "collapsed": true
   },
   "outputs": [],
   "source": [
    "# Create function to read csv and convert to list of list\n",
    "\n",
    "def read_csv(file_name,header = True):\n",
    "    file = open(file_name).read().split(\"\\n\")\n",
    "    list_file = []\n",
    "    if header == True:\n",
    "        file = file[1:len(file)]\n",
    "    for row in file:\n",
    "        split_row = row.split(\",\")\n",
    "        list_file.append(split_row)\n",
    "    return list_file    \n",
    "    "
   ]
  },
  {
   "cell_type": "code",
   "execution_count": 19,
   "metadata": {},
   "outputs": [
    {
     "data": {
      "text/plain": [
       "[['1994', '1', '1', '6', '8096'],\n",
       " ['1994', '1', '2', '7', '7772'],\n",
       " ['1994', '1', '3', '1', '10142'],\n",
       " ['1994', '1', '4', '2', '11248'],\n",
       " ['1994', '1', '5', '3', '11053'],\n",
       " ['1994', '1', '6', '4', '11406'],\n",
       " ['1994', '1', '7', '5', '11251'],\n",
       " ['1994', '1', '8', '6', '8653'],\n",
       " ['1994', '1', '9', '7', '7910'],\n",
       " ['1994', '1', '10', '1', '10498']]"
      ]
     },
     "execution_count": 19,
     "metadata": {},
     "output_type": "execute_result"
    }
   ],
   "source": [
    "csv_list = read_csv(\"US_Births.csv\")\n",
    "csv_list[0:10]"
   ]
  },
  {
   "cell_type": "code",
   "execution_count": 25,
   "metadata": {
    "collapsed": true
   },
   "outputs": [],
   "source": [
    "def calc_counts(birth_list,idx):\n",
    "    birth_dict = {}\n",
    "    count = 0\n",
    "    for row in birth_list:\n",
    "        month = row[idx]\n",
    "        births = int(row[4])\n",
    "        if month in birth_dict:\n",
    "            birth_dict[month] = count + births\n",
    "        else:\n",
    "            birth_dict[month] = count\n",
    "    return birth_dict\n",
    "\n"
   ]
  },
  {
   "cell_type": "code",
   "execution_count": 27,
   "metadata": {
    "collapsed": true
   },
   "outputs": [],
   "source": [
    "cdc_year_births = calc_counts(csv_list,0)\n",
    "cdc_month_births = calc_counts(csv_list,1)\n",
    "cdc_dom_births = calc_counts(csv_list,2)\n",
    "cdc_dow_births = calc_counts(csv_list,3)"
   ]
  },
  {
   "cell_type": "code",
   "execution_count": 28,
   "metadata": {},
   "outputs": [
    {
     "data": {
      "text/plain": [
       "{'1994': 8809,\n",
       " '1995': 7596,\n",
       " '1996': 11924,\n",
       " '1997': 11818,\n",
       " '1998': 11389,\n",
       " '1999': 9335,\n",
       " '2000': 7721,\n",
       " '2001': 10018,\n",
       " '2002': 12339,\n",
       " '2003': 12374}"
      ]
     },
     "execution_count": 28,
     "metadata": {},
     "output_type": "execute_result"
    }
   ],
   "source": [
    "cdc_year_births"
   ]
  },
  {
   "cell_type": "code",
   "execution_count": 29,
   "metadata": {},
   "outputs": [
    {
     "data": {
      "text/plain": [
       "{'1': 12823,\n",
       " '2': 14438,\n",
       " '3': 12374,\n",
       " '4': 6628,\n",
       " '5': 10218,\n",
       " '6': 8646,\n",
       " '7': 7645}"
      ]
     },
     "execution_count": 29,
     "metadata": {},
     "output_type": "execute_result"
    }
   ],
   "source": [
    "cdc_dow_births"
   ]
  },
  {
   "cell_type": "code",
   "execution_count": 40,
   "metadata": {
    "collapsed": true
   },
   "outputs": [],
   "source": [
    "# function to get min and max values\n",
    "\n",
    "def calc_min_max(dict_data):\n",
    "    max_key = max(dict_data, key = lambda x: dict_data.get(x))\n",
    "    min_key = min(dict_data, key = lambda x: dict_data.get(x))\n",
    "    return [min_key,dict_data[min_key],max_key,dict_data[max_key]]\n",
    "    "
   ]
  },
  {
   "cell_type": "code",
   "execution_count": 41,
   "metadata": {},
   "outputs": [
    {
     "data": {
      "text/plain": [
       "['1995', 7596, '2003', 12374]"
      ]
     },
     "execution_count": 41,
     "metadata": {},
     "output_type": "execute_result"
    }
   ],
   "source": [
    "year_min_max = calc_min_max(cdc_year_births)\n",
    "year_min_max"
   ]
  },
  {
   "cell_type": "code",
   "execution_count": 45,
   "metadata": {
    "collapsed": true
   },
   "outputs": [],
   "source": [
    "# number of births in saturday change between 1994 and 2003\n",
    "def calc_counts1(birth_list,idx,idx1):\n",
    "    birth_dict = {}\n",
    "    count = 0\n",
    "    for row in birth_list:\n",
    "        year_day = row[idx]+\"-\"+row[idx1]\n",
    "        births = int(row[4])\n",
    "        if year_day in birth_dict:\n",
    "            birth_dict[year_day] = count + births\n",
    "        else:\n",
    "            birth_dict[year_day] = count\n",
    "    return birth_dict"
   ]
  },
  {
   "cell_type": "code",
   "execution_count": 50,
   "metadata": {},
   "outputs": [
    {
     "data": {
      "text/plain": [
       "{'1994-1': 8454,\n",
       " '1994-2': 11131,\n",
       " '1994-3': 12398,\n",
       " '1994-4': 12189,\n",
       " '1994-5': 12051,\n",
       " '1994-6': 8809,\n",
       " '1994-7': 7192,\n",
       " '1995-1': 7027,\n",
       " '1995-2': 9447,\n",
       " '1995-3': 11897,\n",
       " '1995-4': 12530,\n",
       " '1995-5': 12207,\n",
       " '1995-6': 9093,\n",
       " '1995-7': 7596,\n",
       " '1996-1': 11911,\n",
       " '1996-2': 11924,\n",
       " '1996-3': 7092,\n",
       " '1996-4': 10321,\n",
       " '1996-5': 12260,\n",
       " '1996-6': 9103,\n",
       " '1996-7': 8193,\n",
       " '1997-1': 12206,\n",
       " '1997-2': 13521,\n",
       " '1997-3': 11818,\n",
       " '1997-4': 7055,\n",
       " '1997-5': 10075,\n",
       " '1997-6': 8679,\n",
       " '1997-7': 7864,\n",
       " '1998-1': 11980,\n",
       " '1998-2': 13637,\n",
       " '1998-3': 13297,\n",
       " '1998-4': 11389,\n",
       " '1998-5': 7020,\n",
       " '1998-6': 7735,\n",
       " '1998-7': 7829,\n",
       " '1999-1': 11579,\n",
       " '1999-2': 13158,\n",
       " '1999-3': 12629,\n",
       " '1999-4': 11935,\n",
       " '1999-5': 9335,\n",
       " '1999-6': 6674,\n",
       " '1999-7': 7432,\n",
       " '2000-1': 6566,\n",
       " '2000-2': 10070,\n",
       " '2000-3': 12858,\n",
       " '2000-4': 13532,\n",
       " '2000-5': 13234,\n",
       " '2000-6': 9177,\n",
       " '2000-7': 7721,\n",
       " '2001-1': 10018,\n",
       " '2001-2': 6443,\n",
       " '2001-3': 10735,\n",
       " '2001-4': 13762,\n",
       " '2001-5': 13918,\n",
       " '2001-6': 9365,\n",
       " '2001-7': 7679,\n",
       " '2002-1': 12906,\n",
       " '2002-2': 12339,\n",
       " '2002-3': 6629,\n",
       " '2002-4': 10903,\n",
       " '2002-5': 13332,\n",
       " '2002-6': 8953,\n",
       " '2002-7': 7892,\n",
       " '2003-1': 12823,\n",
       " '2003-2': 14438,\n",
       " '2003-3': 12374,\n",
       " '2003-4': 6628,\n",
       " '2003-5': 10218,\n",
       " '2003-6': 8646,\n",
       " '2003-7': 7645}"
      ]
     },
     "execution_count": 50,
     "metadata": {},
     "output_type": "execute_result"
    }
   ],
   "source": [
    "cdc_births = calc_counts1(csv_list,0,3)\n",
    "cdc_births"
   ]
  },
  {
   "cell_type": "code",
   "execution_count": 86,
   "metadata": {
    "collapsed": true
   },
   "outputs": [],
   "source": [
    "# check for only saturday for each year by removing arguments and passing min and max year\n",
    "\n",
    "def calc_counts1(birth_list,year_min,year_max):\n",
    "    birth_dict = {}\n",
    "    count = 0\n",
    "    for row in birth_list:\n",
    "        year = int(row[0])\n",
    "        births = int(row[4])\n",
    "        if ((row[3] == '6') & (year >= year_min) & (year <= year_max)):\n",
    "            if year in birth_dict:\n",
    "                birth_dict[year] = count + births\n",
    "            else:\n",
    "                birth_dict[year] = count\n",
    "    return birth_dict"
   ]
  },
  {
   "cell_type": "code",
   "execution_count": 87,
   "metadata": {},
   "outputs": [
    {
     "data": {
      "text/plain": [
       "{1994: 8809,\n",
       " 1995: 9093,\n",
       " 1996: 9103,\n",
       " 1997: 8679,\n",
       " 1998: 7735,\n",
       " 1999: 6674,\n",
       " 2000: 9177,\n",
       " 2001: 9365,\n",
       " 2002: 8953,\n",
       " 2003: 8646}"
      ]
     },
     "execution_count": 87,
     "metadata": {},
     "output_type": "execute_result"
    }
   ],
   "source": [
    "# select births between years\n",
    "cdc_births = calc_counts1(csv_list,1994,2003)\n",
    "cdc_births"
   ]
  },
  {
   "cell_type": "code",
   "execution_count": 90,
   "metadata": {
    "collapsed": true
   },
   "outputs": [],
   "source": [
    "# Create function to read csv and convert to list of list to integer values\n",
    "\n",
    "def read_csv_int(file_name,header = True):\n",
    "    file = open(file_name).read().split(\"\\n\")\n",
    "    list_file = []\n",
    "    if header == True:\n",
    "        file = file[1:len(file)]\n",
    "    for row in file:\n",
    "        split_row = row.split(\",\")\n",
    "        int_list = []\n",
    "        for i in split_row:\n",
    "            int_list.append(int(i))\n",
    "        list_file.append(int_list)\n",
    "    return list_file   \n"
   ]
  },
  {
   "cell_type": "code",
   "execution_count": 93,
   "metadata": {},
   "outputs": [
    {
     "data": {
      "text/plain": [
       "[[2000, 1, 1, 6, 9083],\n",
       " [2000, 1, 2, 7, 8006],\n",
       " [2000, 1, 3, 1, 11363],\n",
       " [2000, 1, 4, 2, 13032],\n",
       " [2000, 1, 5, 3, 12558],\n",
       " [2000, 1, 6, 4, 12466],\n",
       " [2000, 1, 7, 5, 12516],\n",
       " [2000, 1, 8, 6, 8934],\n",
       " [2000, 1, 9, 7, 7949],\n",
       " [2000, 1, 10, 1, 11668]]"
      ]
     },
     "execution_count": 93,
     "metadata": {},
     "output_type": "execute_result"
    }
   ],
   "source": [
    "ssa_list_int = read_csv_int(\"SSA_Births.csv\")\n",
    "ssa_list_int[0:10]"
   ]
  },
  {
   "cell_type": "code",
   "execution_count": 95,
   "metadata": {},
   "outputs": [
    {
     "data": {
      "text/plain": [
       "[[1994, 1, 1, 6, 8096],\n",
       " [1994, 1, 2, 7, 7772],\n",
       " [1994, 1, 3, 1, 10142],\n",
       " [1994, 1, 4, 2, 11248],\n",
       " [1994, 1, 5, 3, 11053],\n",
       " [1994, 1, 6, 4, 11406],\n",
       " [1994, 1, 7, 5, 11251],\n",
       " [1994, 1, 8, 6, 8653],\n",
       " [1994, 1, 9, 7, 7910],\n",
       " [1994, 1, 10, 1, 10498]]"
      ]
     },
     "execution_count": 95,
     "metadata": {},
     "output_type": "execute_result"
    }
   ],
   "source": [
    "us_list_int = read_csv_int(\"US_Births.csv\")\n",
    "us_list_int[0:10]"
   ]
  },
  {
   "cell_type": "code",
   "execution_count": 109,
   "metadata": {},
   "outputs": [
    {
     "name": "stdout",
     "output_type": "stream",
     "text": [
      "CDC Births:  {1994: 8809, 1995: 7596, 1996: 11924, 1997: 11818, 1998: 11389, 1999: 9335, 2000: 7721, 2001: 10018, 2002: 12339, 2003: 12374}\n",
      "SSA Births:  {2000: 7892, 2001: 10272, 2002: 12582, 2003: 12540, 2004: 10130, 2005: 8635, 2006: 7569, 2007: 11102, 2008: 12906, 2009: 11667, 2010: 9751, 2011: 8035, 2012: 10634, 2013: 12525, 2014: 11990}\n",
      "Combine Births:  {1994: 8809, 1995: 7596, 1996: 11924, 1997: 11818, 1998: 11389, 1999: 9335, 2000: 15613, 2001: 20290, 2002: 24921, 2003: 24914, 2004: 10130, 2005: 8635, 2006: 7569, 2007: 11102, 2008: 12906, 2009: 11667, 2010: 9751, 2011: 8035, 2012: 10634, 2013: 12525, 2014: 11990}\n"
     ]
    }
   ],
   "source": [
    "# combine CDC and SSA Data\n",
    "cdc_year_births = calc_counts(us_list_int,0)\n",
    "ssa_year_births = calc_counts(ssa_list_int,0)\n",
    "print(\"CDC Births: \" , cdc_year_births)\n",
    "print(\"SSA Births: \" , ssa_year_births)\n",
    "\n",
    "combine_dict = {}\n",
    "for key in cdc_year_births:\n",
    "    if key in ssa_year_births:\n",
    "        combine_dict[key] = cdc_year_births[key]+ssa_year_births[key]\n",
    "    else:\n",
    "        combine_dict[key] = cdc_year_births[key]\n",
    "\n",
    "for key in ssa_year_births:\n",
    "    if key not in combine_dict:\n",
    "        combine_dict[key] = ssa_year_births[key]\n",
    "    \n",
    "        \n",
    "        \n",
    "print(\"Combine Births: \", combine_dict)  "
   ]
  }
 ],
 "metadata": {
  "kernelspec": {
   "display_name": "Python 3",
   "language": "python",
   "name": "python3"
  },
  "language_info": {
   "codemirror_mode": {
    "name": "ipython",
    "version": 3
   },
   "file_extension": ".py",
   "mimetype": "text/x-python",
   "name": "python",
   "nbconvert_exporter": "python",
   "pygments_lexer": "ipython3",
   "version": "3.6.1"
  }
 },
 "nbformat": 4,
 "nbformat_minor": 2
}
