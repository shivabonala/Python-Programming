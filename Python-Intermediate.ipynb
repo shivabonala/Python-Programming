{
 "cells": [
  {
   "cell_type": "markdown",
   "metadata": {},
   "source": [
    "# Python Intermediate Programming: \n",
    "\n",
    "The dataset came from FiveThirtyEight, and can be found here. The dataset is stored in the guns.csv file. It contains information on gun deaths in the US from 2012 to 2014. Each row in the dataset represents a single fatality. The columns contain demographic and other information about the victim. Here are the first few rows of the dataset:"
   ]
  },
  {
   "cell_type": "code",
   "execution_count": 16,
   "metadata": {},
   "outputs": [
    {
     "data": {
      "text/plain": [
       "[['',\n",
       "  'year',\n",
       "  'month',\n",
       "  'intent',\n",
       "  'police',\n",
       "  'sex',\n",
       "  'age',\n",
       "  'race',\n",
       "  'hispanic',\n",
       "  'place',\n",
       "  'education'],\n",
       " ['1',\n",
       "  '2012',\n",
       "  '01',\n",
       "  'Suicide',\n",
       "  '0',\n",
       "  'M',\n",
       "  '34',\n",
       "  'Asian/Pacific Islander',\n",
       "  '100',\n",
       "  'Home',\n",
       "  '4']]"
      ]
     },
     "execution_count": 16,
     "metadata": {},
     "output_type": "execute_result"
    }
   ],
   "source": [
    "from csv import reader\n",
    "f = open(\"guns.csv\",\"r\")\n",
    "read_file = reader(f)\n",
    "data = list(read_file)\n",
    "data[:2]"
   ]
  },
  {
   "cell_type": "code",
   "execution_count": 17,
   "metadata": {},
   "outputs": [
    {
     "data": {
      "text/plain": [
       "['',\n",
       " 'year',\n",
       " 'month',\n",
       " 'intent',\n",
       " 'police',\n",
       " 'sex',\n",
       " 'age',\n",
       " 'race',\n",
       " 'hispanic',\n",
       " 'place',\n",
       " 'education']"
      ]
     },
     "execution_count": 17,
     "metadata": {},
     "output_type": "execute_result"
    }
   ],
   "source": [
    "# Remove headers from data \n",
    "headers = data[0]\n",
    "data = data[1:]\n",
    "headers"
   ]
  },
  {
   "cell_type": "code",
   "execution_count": 18,
   "metadata": {},
   "outputs": [
    {
     "data": {
      "text/plain": [
       "[['1',\n",
       "  '2012',\n",
       "  '01',\n",
       "  'Suicide',\n",
       "  '0',\n",
       "  'M',\n",
       "  '34',\n",
       "  'Asian/Pacific Islander',\n",
       "  '100',\n",
       "  'Home',\n",
       "  '4'],\n",
       " ['2', '2012', '01', 'Suicide', '0', 'F', '21', 'White', '100', 'Street', '3'],\n",
       " ['3',\n",
       "  '2012',\n",
       "  '01',\n",
       "  'Suicide',\n",
       "  '0',\n",
       "  'M',\n",
       "  '60',\n",
       "  'White',\n",
       "  '100',\n",
       "  'Other specified',\n",
       "  '4'],\n",
       " ['4', '2012', '02', 'Suicide', '0', 'M', '64', 'White', '100', 'Home', '4'],\n",
       " ['5',\n",
       "  '2012',\n",
       "  '02',\n",
       "  'Suicide',\n",
       "  '0',\n",
       "  'M',\n",
       "  '31',\n",
       "  'White',\n",
       "  '100',\n",
       "  'Other specified',\n",
       "  '2']]"
      ]
     },
     "execution_count": 18,
     "metadata": {},
     "output_type": "execute_result"
    }
   ],
   "source": [
    "data[:5]"
   ]
  },
  {
   "cell_type": "code",
   "execution_count": 19,
   "metadata": {},
   "outputs": [
    {
     "data": {
      "text/plain": [
       "[2012, 2012, 2012, 2012, 2012]"
      ]
     },
     "execution_count": 19,
     "metadata": {},
     "output_type": "execute_result"
    }
   ],
   "source": [
    "# convet and extract years\n",
    "years = [int(row[1]) for row in data]\n",
    "years[:5]            \n",
    "             "
   ]
  },
  {
   "cell_type": "code",
   "execution_count": 20,
   "metadata": {},
   "outputs": [
    {
     "data": {
      "text/plain": [
       "{2012: 33563, 2013: 33636, 2014: 33599}"
      ]
     },
     "execution_count": 20,
     "metadata": {},
     "output_type": "execute_result"
    }
   ],
   "source": [
    "# Display dictonary with year_counts to see how many gun deaths occur in each year.\n",
    "year_counts = {}\n",
    "for col in years:\n",
    "    if col in year_counts:\n",
    "        year_counts[col] += 1\n",
    "    else:\n",
    "        year_counts[col] = 1\n",
    "        \n",
    "year_counts        "
   ]
  },
  {
   "cell_type": "code",
   "execution_count": 21,
   "metadata": {},
   "outputs": [
    {
     "name": "stdout",
     "output_type": "stream",
     "text": [
      "{datetime.datetime(2013, 1, 1, 0, 0): 2864, datetime.datetime(2012, 5, 1, 0, 0): 2999, datetime.datetime(2012, 8, 1, 0, 0): 2954, datetime.datetime(2013, 9, 1, 0, 0): 2742, datetime.datetime(2014, 4, 1, 0, 0): 2862, datetime.datetime(2012, 9, 1, 0, 0): 2852, datetime.datetime(2012, 3, 1, 0, 0): 2743, datetime.datetime(2012, 6, 1, 0, 0): 2826, datetime.datetime(2014, 9, 1, 0, 0): 2914, datetime.datetime(2014, 8, 1, 0, 0): 2970, datetime.datetime(2012, 12, 1, 0, 0): 2791, datetime.datetime(2013, 2, 1, 0, 0): 2375, datetime.datetime(2013, 3, 1, 0, 0): 2862, datetime.datetime(2014, 1, 1, 0, 0): 2651, datetime.datetime(2013, 11, 1, 0, 0): 2758, datetime.datetime(2014, 12, 1, 0, 0): 2857, datetime.datetime(2013, 8, 1, 0, 0): 2859, datetime.datetime(2013, 5, 1, 0, 0): 2806, datetime.datetime(2012, 10, 1, 0, 0): 2733, datetime.datetime(2013, 12, 1, 0, 0): 2765, datetime.datetime(2013, 7, 1, 0, 0): 3079, datetime.datetime(2012, 7, 1, 0, 0): 3026, datetime.datetime(2013, 6, 1, 0, 0): 2920, datetime.datetime(2012, 1, 1, 0, 0): 2758, datetime.datetime(2012, 4, 1, 0, 0): 2795, datetime.datetime(2014, 11, 1, 0, 0): 2756, datetime.datetime(2014, 7, 1, 0, 0): 2884, datetime.datetime(2014, 5, 1, 0, 0): 2864, datetime.datetime(2014, 6, 1, 0, 0): 2931, datetime.datetime(2012, 2, 1, 0, 0): 2357, datetime.datetime(2012, 11, 1, 0, 0): 2729, datetime.datetime(2014, 2, 1, 0, 0): 2361, datetime.datetime(2014, 3, 1, 0, 0): 2684, datetime.datetime(2013, 10, 1, 0, 0): 2808, datetime.datetime(2014, 10, 1, 0, 0): 2865, datetime.datetime(2013, 4, 1, 0, 0): 2798}\n"
     ]
    }
   ],
   "source": [
    "# create a datetime.datetime object for each row and count unique date counts\n",
    "\n",
    "from datetime import datetime\n",
    "\n",
    "dates = [datetime(year = int(row[1]), month = int(row[2]), day = 1 ) for row in data]\n",
    "date_counts = {}\n",
    "for row in dates:\n",
    "    if row in date_counts:\n",
    "        date_counts[row]+= 1\n",
    "    else:\n",
    "        date_counts[row] = 1\n",
    "     \n",
    "print(date_counts)"
   ]
  },
  {
   "cell_type": "code",
   "execution_count": 22,
   "metadata": {},
   "outputs": [
    {
     "name": "stdout",
     "output_type": "stream",
     "text": [
      "{'F': 14449, 'M': 86349}\n",
      "{'Native American/Native Alaskan': 917, 'Asian/Pacific Islander': 1326, 'Hispanic': 9022, 'Black': 23296, 'White': 66237}\n"
     ]
    }
   ],
   "source": [
    "# Count up how many times each item in the sex column occurs.\n",
    "# Count up how many times each item in the race column occurs.\n",
    "sex_counts ={}\n",
    "race_counts = {}\n",
    "for row in data:\n",
    "    sex = row[5]\n",
    "    race = row[7]\n",
    "    \n",
    "    if sex in sex_counts:\n",
    "        sex_counts[sex] += 1\n",
    "    else:\n",
    "        sex_counts[sex] = 1\n",
    "    \n",
    "    if race in race_counts:\n",
    "        race_counts[race] += 1\n",
    "    else:\n",
    "        race_counts[race] = 1\n",
    "        \n",
    "print(sex_counts)\n",
    "print(race_counts)\n",
    "    "
   ]
  },
  {
   "cell_type": "code",
   "execution_count": 23,
   "metadata": {},
   "outputs": [
    {
     "name": "stdout",
     "output_type": "stream",
     "text": [
      "[['Id', 'Year', 'Id', 'Sex', 'Id', 'Hispanic Origin', 'Id', 'Id2', 'Geography', 'Total', 'Race Alone - White', 'Race Alone - Hispanic', 'Race Alone - Black or African American', 'Race Alone - American Indian and Alaska Native', 'Race Alone - Asian', 'Race Alone - Native Hawaiian and Other Pacific Islander', 'Two or More Races'], ['cen42010', 'April 1, 2010 Census', 'totsex', 'Both Sexes', 'tothisp', 'Total', '0100000US', '', 'United States', '308745538', '197318956', '44618105', '40250635', '3739506', '15159516', '674625', '6984195']]\n"
     ]
    }
   ],
   "source": [
    "import csv\n",
    "open_file = open(\"census.csv\",\"r\")\n",
    "read_file = csv.reader(open_file)\n",
    "\n",
    "census = list(read_file)\n",
    "\n",
    "print(census)"
   ]
  },
  {
   "cell_type": "code",
   "execution_count": 24,
   "metadata": {},
   "outputs": [
    {
     "data": {
      "text/plain": [
       "{'Geography': 'United States',\n",
       " 'Hispanic Origin': 'Total',\n",
       " 'Id': '0100000US',\n",
       " 'Id2': '',\n",
       " 'Race Alone - American Indian and Alaska Native': 3739506,\n",
       " 'Race Alone - Asian': 15159516,\n",
       " 'Race Alone - Black or African American': 40250635,\n",
       " 'Race Alone - Hispanic': 44618105,\n",
       " 'Race Alone - Native Hawaiian and Other Pacific Islander': 674625,\n",
       " 'Race Alone - White': 197318956,\n",
       " 'Sex': 'Both Sexes',\n",
       " 'Total': 308745538,\n",
       " 'Two or More Races': 6984195,\n",
       " 'Year': 'April 1, 2010 Census'}"
      ]
     },
     "execution_count": 24,
     "metadata": {},
     "output_type": "execute_result"
    }
   ],
   "source": [
    "# to get meaningful information join gun deaths and census data\n",
    "census_header = census[0]\n",
    "census_data = census[1]\n",
    "census_dict = {}\n",
    "for idx,col in enumerate(census_header):\n",
    "    for idx1,col1  in enumerate(census_data):\n",
    "        if idx == idx1:\n",
    "            try:\n",
    "                census_dict[col] = int(col1)\n",
    "            except Exception:\n",
    "                census_dict[col] = col1\n",
    "census_dict\n"
   ]
  },
  {
   "cell_type": "code",
   "execution_count": 34,
   "metadata": {},
   "outputs": [
    {
     "name": "stdout",
     "output_type": "stream",
     "text": [
      "{'Native American/Native Alaskan': 3739506, 'Asian/Pacific Islander': 15834141, 'White': 197318956, 'Black': 40250635, 'Hispanic': 44618105}\n",
      "{'Native American/Native Alaskan': 917, 'Asian/Pacific Islander': 1326, 'Hispanic': 9022, 'Black': 23296, 'White': 66237}\n"
     ]
    }
   ],
   "source": [
    "census_keys ={}\n",
    "for key,value in race_counts.items():\n",
    "    #print(key,value)\n",
    "    census_keys[key] = 0\n",
    "    \n",
    "    \n",
    "census_keys['Native American/Native Alaskan'] = census_dict['Race Alone - American Indian and Alaska Native']\n",
    "census_keys['Asian/Pacific Islander'] = census_dict['Race Alone - Asian'] + census_dict['Race Alone - Native Hawaiian and Other Pacific Islander']\n",
    "census_keys['Black'] = census_dict['Race Alone - Black or African American'] \n",
    "census_keys['Hispanic'] = census_dict['Race Alone - Hispanic'] \n",
    "census_keys['White'] = census_dict['Race Alone - White'] \n",
    "\n",
    "print(census_keys)\n",
    "print(race_counts)\n"
   ]
  },
  {
   "cell_type": "code",
   "execution_count": 35,
   "metadata": {},
   "outputs": [
    {
     "name": "stdout",
     "output_type": "stream",
     "text": [
      "{'Native American/Native Alaskan': 24.521955573811088, 'Asian/Pacific Islander': 8.374309664161762, 'White': 33.56849303419181, 'Black': 57.8773477735196, 'Hispanic': 20.220491210910907}\n"
     ]
    }
   ],
   "source": [
    "race_per_hundredk ={}\n",
    "\n",
    "for key,value in race_counts.items():\n",
    "    race_per_hundredk[key] = (race_counts[key]/census_keys[key]) * 100000\n",
    "    \n",
    "print(race_per_hundredk)    \n"
   ]
  },
  {
   "cell_type": "code",
   "execution_count": 37,
   "metadata": {},
   "outputs": [
    {
     "name": "stdout",
     "output_type": "stream",
     "text": [
      "{'Native American/Native Alaskan': 326, 'Asian/Pacific Islander': 559, 'Hispanic': 5634, 'Black': 19510, 'White': 9147}\n"
     ]
    }
   ],
   "source": [
    "# FInd race counts for only Homicide\n",
    "\n",
    "Homicide_counts = {}\n",
    "for row in data:\n",
    "    race = row[7]\n",
    "    intent = row[3]\n",
    "    if intent == 'Homicide':\n",
    "        if race in Homicide_counts:\n",
    "            Homicide_counts[race] += 1\n",
    "        else:\n",
    "            Homicide_counts[race] = 1\n",
    "        \n",
    "print(Homicide_counts)"
   ]
  },
  {
   "cell_type": "code",
   "execution_count": 38,
   "metadata": {},
   "outputs": [
    {
     "name": "stdout",
     "output_type": "stream",
     "text": [
      "{'Native American/Native Alaskan': 8.717729026240365, 'Asian/Pacific Islander': 3.530346230970155, 'White': 4.6356417981453335, 'Black': 48.471284987180944, 'Hispanic': 12.627161104219914}\n"
     ]
    }
   ],
   "source": [
    "Homicide_per_hundredk ={}\n",
    "\n",
    "for key,value in race_counts.items():\n",
    "    Homicide_per_hundredk[key] = (Homicide_counts[key]/census_keys[key]) * 100000\n",
    "    \n",
    "print(Homicide_per_hundredk)   "
   ]
  }
 ],
 "metadata": {
  "kernelspec": {
   "display_name": "Python 3",
   "language": "python",
   "name": "python3"
  },
  "language_info": {
   "codemirror_mode": {
    "name": "ipython",
    "version": 3
   },
   "file_extension": ".py",
   "mimetype": "text/x-python",
   "name": "python",
   "nbconvert_exporter": "python",
   "pygments_lexer": "ipython3",
   "version": "3.6.1"
  }
 },
 "nbformat": 4,
 "nbformat_minor": 1
}
